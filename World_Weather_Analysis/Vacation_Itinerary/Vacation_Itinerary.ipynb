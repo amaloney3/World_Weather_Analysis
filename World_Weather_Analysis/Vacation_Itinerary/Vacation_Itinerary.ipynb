{
 "cells": [
  {
   "cell_type": "markdown",
   "metadata": {},
   "source": [
    "## Deliverable 3. Create a Travel Itinerary Map."
   ]
  },
  {
   "cell_type": "code",
   "execution_count": 1,
   "metadata": {},
   "outputs": [],
   "source": [
    "# Dependencies and Setup\n",
    "import pandas as pd\n",
    "import requests\n",
    "import gmaps\n",
    "\n",
    "# Import API key\n",
    "from config import g_key\n",
    "\n",
    "# Configure gmaps\n",
    "gmaps.configure(api_key=g_key)"
   ]
  },
  {
   "cell_type": "code",
   "execution_count": 2,
   "metadata": {},
   "outputs": [
    {
     "data": {
      "text/html": [
       "<div>\n",
       "<style scoped>\n",
       "    .dataframe tbody tr th:only-of-type {\n",
       "        vertical-align: middle;\n",
       "    }\n",
       "\n",
       "    .dataframe tbody tr th {\n",
       "        vertical-align: top;\n",
       "    }\n",
       "\n",
       "    .dataframe thead th {\n",
       "        text-align: right;\n",
       "    }\n",
       "</style>\n",
       "<table border=\"1\" class=\"dataframe\">\n",
       "  <thead>\n",
       "    <tr style=\"text-align: right;\">\n",
       "      <th></th>\n",
       "      <th>City_ID</th>\n",
       "      <th>City</th>\n",
       "      <th>Country</th>\n",
       "      <th>Max Temp</th>\n",
       "      <th>Current Description</th>\n",
       "      <th>Lat</th>\n",
       "      <th>Lng</th>\n",
       "      <th>Hotel Name</th>\n",
       "    </tr>\n",
       "  </thead>\n",
       "  <tbody>\n",
       "    <tr>\n",
       "      <th>0</th>\n",
       "      <td>0</td>\n",
       "      <td>Clinton</td>\n",
       "      <td>US</td>\n",
       "      <td>88.95</td>\n",
       "      <td>few clouds</td>\n",
       "      <td>42.5870</td>\n",
       "      <td>-82.9199</td>\n",
       "      <td>Hampton Inn Detroit/Roseville</td>\n",
       "    </tr>\n",
       "    <tr>\n",
       "      <th>1</th>\n",
       "      <td>2</td>\n",
       "      <td>Puerto Colombia</td>\n",
       "      <td>CO</td>\n",
       "      <td>87.89</td>\n",
       "      <td>overcast clouds</td>\n",
       "      <td>10.9878</td>\n",
       "      <td>-74.9547</td>\n",
       "      <td>Hotel El Emigrante</td>\n",
       "    </tr>\n",
       "    <tr>\n",
       "      <th>2</th>\n",
       "      <td>8</td>\n",
       "      <td>Hami</td>\n",
       "      <td>CN</td>\n",
       "      <td>71.76</td>\n",
       "      <td>scattered clouds</td>\n",
       "      <td>42.8000</td>\n",
       "      <td>93.4500</td>\n",
       "      <td>Laoyutang Resort</td>\n",
       "    </tr>\n",
       "    <tr>\n",
       "      <th>3</th>\n",
       "      <td>9</td>\n",
       "      <td>Broome</td>\n",
       "      <td>US</td>\n",
       "      <td>86.63</td>\n",
       "      <td>scattered clouds</td>\n",
       "      <td>42.2506</td>\n",
       "      <td>-75.8330</td>\n",
       "      <td>Chenango Valley State Park</td>\n",
       "    </tr>\n",
       "    <tr>\n",
       "      <th>4</th>\n",
       "      <td>15</td>\n",
       "      <td>Kapaa</td>\n",
       "      <td>US</td>\n",
       "      <td>75.52</td>\n",
       "      <td>light rain</td>\n",
       "      <td>22.0752</td>\n",
       "      <td>-159.3190</td>\n",
       "      <td>Sheraton Kauai Coconut Beach Resort</td>\n",
       "    </tr>\n",
       "  </tbody>\n",
       "</table>\n",
       "</div>"
      ],
      "text/plain": [
       "   City_ID             City Country  Max Temp Current Description      Lat  \\\n",
       "0        0          Clinton      US     88.95          few clouds  42.5870   \n",
       "1        2  Puerto Colombia      CO     87.89     overcast clouds  10.9878   \n",
       "2        8             Hami      CN     71.76    scattered clouds  42.8000   \n",
       "3        9           Broome      US     86.63    scattered clouds  42.2506   \n",
       "4       15            Kapaa      US     75.52          light rain  22.0752   \n",
       "\n",
       "        Lng                           Hotel Name  \n",
       "0  -82.9199        Hampton Inn Detroit/Roseville  \n",
       "1  -74.9547                   Hotel El Emigrante  \n",
       "2   93.4500                     Laoyutang Resort  \n",
       "3  -75.8330           Chenango Valley State Park  \n",
       "4 -159.3190  Sheraton Kauai Coconut Beach Resort  "
      ]
     },
     "execution_count": 2,
     "metadata": {},
     "output_type": "execute_result"
    }
   ],
   "source": [
    "# 1. Read the WeatherPy_vacation.csv into a DataFrame.\n",
    "vacation_df = pd.read_csv(r'C:/Users/amalo/OneDrive/Desktop/Class/World_Weather_Analysis/Vacation_Search/WeatherPy_vacation.csv')\n",
    "vacation_df.head()\n"
   ]
  },
  {
   "cell_type": "code",
   "execution_count": 4,
   "metadata": {},
   "outputs": [],
   "source": [
    "# 2. Using the template add the city name, the country code, the weather description and maximum temperature for the city.\n",
    "info_box_template = \"\"\"\n",
    "<dl>\n",
    "<dt>Hotel Name</dt><dd>{Hotel Name}</dd>\n",
    "<dt>City</dt><dd>{City}</dd>\n",
    "<dt>Country</dt><dd>{Country}</dd>\n",
    "<dt>Current Weather</dt><dd>{Current Description}</dd>\n",
    "<dt>Max Temp</dt><dd>{Max Temp} °F</dd>\n",
    "</dl>\n",
    "\"\"\"\n",
    "\n",
    "# 3a. Get the data from each row and add it to the formatting template and store the data in a list.\n",
    "hotel_info = [info_box_template.format(**row) for index, row in vacation_df.iterrows()]\n",
    "\n",
    "# 3b. Get the latitude and longitude from each row and store in a new DataFrame.\n",
    "locations = vacation_df[[\"Lat\", \"Lng\"]]"
   ]
  },
  {
   "cell_type": "code",
   "execution_count": 5,
   "metadata": {},
   "outputs": [
    {
     "data": {
      "application/vnd.jupyter.widget-view+json": {
       "model_id": "1e8f1195f33543c3a5ebf7d3ef99ab9a",
       "version_major": 2,
       "version_minor": 0
      },
      "text/plain": [
       "Figure(layout=FigureLayout(height='420px'))"
      ]
     },
     "metadata": {},
     "output_type": "display_data"
    }
   ],
   "source": [
    "# 4a. Add a marker layer for each city to the map.\n",
    "fig = gmaps.figure(center=(30.0, 31.0), zoom_level=1.5)\n",
    "marker_layer = gmaps.marker_layer(locations, info_box_content=hotel_info)\n",
    "fig.add_layer(marker_layer)\n",
    "\n",
    "# 4b. Display the figure\n",
    "fig\n"
   ]
  },
  {
   "cell_type": "code",
   "execution_count": 43,
   "metadata": {},
   "outputs": [],
   "source": [
    "# From the map above pick 4 cities and create a vacation itinerary route to travel between the four cities. \n",
    "# 5. Create DataFrames for each city by filtering the 'vacation_df' using the loc method. \n",
    "# Hint: The starting and ending city should be the same city.\n",
    "\n",
    "vacation_start = vacation_df.loc[(vacation_df[\"City\"] == \"Taylorville\") & (vacation_df[\"Country\"] == \"US\")]\n",
    "vacation_end = vacation_df.loc[(vacation_df[\"City\"] == \"Taylorville\") & (vacation_df[\"Country\"] == \"US\")]\n",
    "vacation_stop1 = vacation_df.loc[(vacation_df[\"City\"] == \"Fort Morgan\") & (vacation_df[\"Country\"] == \"US\")]\n",
    "vacation_stop2 = vacation_df.loc[(vacation_df[\"City\"] == \"Hope\") & (vacation_df[\"Country\"] == \"US\")] \n",
    "vacation_stop3 = vacation_df.loc[(vacation_df[\"City\"] == \"Rincon\") & (vacation_df[\"Country\"] == \"US\")] "
   ]
  },
  {
   "cell_type": "code",
   "execution_count": 44,
   "metadata": {},
   "outputs": [],
   "source": [
    "# 6. Get the latitude-longitude pairs as tuples from each city DataFrame using the to_numpy function and list indexing.\n",
    "start = vacation_start[\"Lat\"].to_numpy()[0], vacation_start[\"Lng\"].to_numpy()[0]\n",
    "end = vacation_end[\"Lat\"].to_numpy()[0], vacation_end[\"Lng\"].to_numpy()[0]\n",
    "stop1 = vacation_stop1[\"Lat\"].to_numpy()[0], vacation_stop1[\"Lng\"].to_numpy()[0]\n",
    "stop2 = vacation_stop2[\"Lat\"].to_numpy()[0], vacation_stop2[\"Lng\"].to_numpy()[0]\n",
    "stop3 = vacation_stop3[\"Lat\"].to_numpy()[0], vacation_stop3[\"Lng\"].to_numpy()[0]"
   ]
  },
  {
   "cell_type": "code",
   "execution_count": 45,
   "metadata": {
    "scrolled": true
   },
   "outputs": [
    {
     "data": {
      "application/vnd.jupyter.widget-view+json": {
       "model_id": "d103a842887e47e898089c2fb56973c4",
       "version_major": 2,
       "version_minor": 0
      },
      "text/plain": [
       "Figure(layout=FigureLayout(height='420px'))"
      ]
     },
     "metadata": {},
     "output_type": "display_data"
    }
   ],
   "source": [
    "# 7. Create a direction layer map using the start and end latitude-longitude pairs,\n",
    "# and stop1, stop2, and stop3 as the waypoints. The travel_mode should be \"DRIVING\", \"BICYCLING\", or \"WALKING\".\n",
    "fig = gmaps.figure()\n",
    "vacation = gmaps.directions_layer(\n",
    "        start, end, waypoints=[stop1, stop2, stop3],\n",
    "        travel_mode='DRIVING')\n",
    "fig.add_layer(vacation)\n",
    "fig"
   ]
  },
  {
   "cell_type": "code",
   "execution_count": 47,
   "metadata": {},
   "outputs": [
    {
     "data": {
      "text/html": [
       "<div>\n",
       "<style scoped>\n",
       "    .dataframe tbody tr th:only-of-type {\n",
       "        vertical-align: middle;\n",
       "    }\n",
       "\n",
       "    .dataframe tbody tr th {\n",
       "        vertical-align: top;\n",
       "    }\n",
       "\n",
       "    .dataframe thead th {\n",
       "        text-align: right;\n",
       "    }\n",
       "</style>\n",
       "<table border=\"1\" class=\"dataframe\">\n",
       "  <thead>\n",
       "    <tr style=\"text-align: right;\">\n",
       "      <th></th>\n",
       "      <th>City_ID</th>\n",
       "      <th>City</th>\n",
       "      <th>Country</th>\n",
       "      <th>Max Temp</th>\n",
       "      <th>Current Description</th>\n",
       "      <th>Lat</th>\n",
       "      <th>Lng</th>\n",
       "      <th>Hotel Name</th>\n",
       "    </tr>\n",
       "  </thead>\n",
       "  <tbody>\n",
       "    <tr>\n",
       "      <th>0</th>\n",
       "      <td>219</td>\n",
       "      <td>Taylorville</td>\n",
       "      <td>US</td>\n",
       "      <td>82.27</td>\n",
       "      <td>broken clouds</td>\n",
       "      <td>39.5489</td>\n",
       "      <td>-89.2945</td>\n",
       "      <td>Economy Inn</td>\n",
       "    </tr>\n",
       "    <tr>\n",
       "      <th>1</th>\n",
       "      <td>409</td>\n",
       "      <td>Fort Morgan</td>\n",
       "      <td>US</td>\n",
       "      <td>83.80</td>\n",
       "      <td>clear sky</td>\n",
       "      <td>40.2503</td>\n",
       "      <td>-103.8000</td>\n",
       "      <td>Hampton Inn Fort Morgan</td>\n",
       "    </tr>\n",
       "    <tr>\n",
       "      <th>2</th>\n",
       "      <td>589</td>\n",
       "      <td>Hope</td>\n",
       "      <td>US</td>\n",
       "      <td>78.85</td>\n",
       "      <td>overcast clouds</td>\n",
       "      <td>33.6671</td>\n",
       "      <td>-93.5916</td>\n",
       "      <td>Best Western Hope</td>\n",
       "    </tr>\n",
       "    <tr>\n",
       "      <th>3</th>\n",
       "      <td>233</td>\n",
       "      <td>Rincon</td>\n",
       "      <td>US</td>\n",
       "      <td>87.71</td>\n",
       "      <td>broken clouds</td>\n",
       "      <td>32.2960</td>\n",
       "      <td>-81.2354</td>\n",
       "      <td>Days Inn Rincon</td>\n",
       "    </tr>\n",
       "  </tbody>\n",
       "</table>\n",
       "</div>"
      ],
      "text/plain": [
       "   City_ID         City Country  Max Temp Current Description      Lat  \\\n",
       "0      219  Taylorville      US     82.27       broken clouds  39.5489   \n",
       "1      409  Fort Morgan      US     83.80           clear sky  40.2503   \n",
       "2      589         Hope      US     78.85     overcast clouds  33.6671   \n",
       "3      233       Rincon      US     87.71       broken clouds  32.2960   \n",
       "\n",
       "        Lng               Hotel Name  \n",
       "0  -89.2945              Economy Inn  \n",
       "1 -103.8000  Hampton Inn Fort Morgan  \n",
       "2  -93.5916        Best Western Hope  \n",
       "3  -81.2354          Days Inn Rincon  "
      ]
     },
     "execution_count": 47,
     "metadata": {},
     "output_type": "execute_result"
    }
   ],
   "source": [
    "# 8. To create a marker layer map between the four cities.\n",
    "#  Combine the four city DataFrames into one DataFrame using the concat() function.\n",
    "itinerary_df = pd.concat([vacation_start, vacation_stop1, vacation_stop2, vacation_stop3],ignore_index=True)\n",
    "itinerary_df"
   ]
  },
  {
   "cell_type": "code",
   "execution_count": 50,
   "metadata": {},
   "outputs": [],
   "source": [
    "# 9 Using the template add city name, the country code, the weather description and maximum temperature for the city. \n",
    "info_box_template = \"\"\"\n",
    "<dl>\n",
    "<dt>Hotel Name</dt><dd>{Hotel Name}</dd>\n",
    "<dt>City</dt><dd>{City}</dd>\n",
    "<dt>Country</dt><dd>{Country}</dd>\n",
    "<dt>Current Weather</dt><dd>{Current Description} and {Max Temp} °F</dd>\n",
    "</dl>\n",
    "\"\"\"\n",
    "\n",
    "# 10a Get the data from each row and add it to the formatting template and store the data in a list.\n",
    "hotel_info = [info_box_template.format(**row) for index, row in itinerary_df.iterrows()]\n",
    "\n",
    "# 10b. Get the latitude and longitude from each row and store in a new DataFrame.\n",
    "locations = itinerary_df[[\"Lat\", \"Lng\"]]"
   ]
  },
  {
   "cell_type": "code",
   "execution_count": 51,
   "metadata": {},
   "outputs": [
    {
     "data": {
      "application/vnd.jupyter.widget-view+json": {
       "model_id": "82bcf477176a43ce95d9a2e91f9cd107",
       "version_major": 2,
       "version_minor": 0
      },
      "text/plain": [
       "Figure(layout=FigureLayout(height='420px'))"
      ]
     },
     "metadata": {},
     "output_type": "display_data"
    }
   ],
   "source": [
    "# 11a. Add a marker layer for each city to the map.\n",
    "fig = gmaps.figure(center=(30.0, 31.0), zoom_level=1.5)\n",
    "marker_layer = gmaps.marker_layer(locations, info_box_content=hotel_info)\n",
    "fig.add_layer(marker_layer)\n",
    "\n",
    "# 11b. Display the figure\n",
    "fig"
   ]
  },
  {
   "cell_type": "code",
   "execution_count": null,
   "metadata": {},
   "outputs": [],
   "source": []
  }
 ],
 "metadata": {
  "kernelspec": {
   "display_name": "PythonData",
   "language": "python",
   "name": "pythondata"
  },
  "language_info": {
   "codemirror_mode": {
    "name": "ipython",
    "version": 3
   },
   "file_extension": ".py",
   "mimetype": "text/x-python",
   "name": "python",
   "nbconvert_exporter": "python",
   "pygments_lexer": "ipython3",
   "version": "3.7.10"
  },
  "latex_envs": {
   "LaTeX_envs_menu_present": true,
   "autoclose": false,
   "autocomplete": true,
   "bibliofile": "biblio.bib",
   "cite_by": "apalike",
   "current_citInitial": 1,
   "eqLabelWithNumbers": true,
   "eqNumInitial": 1,
   "hotkeys": {
    "equation": "Ctrl-E",
    "itemize": "Ctrl-I"
   },
   "labels_anchors": false,
   "latex_user_defs": false,
   "report_style_numbering": false,
   "user_envs_cfg": false
  }
 },
 "nbformat": 4,
 "nbformat_minor": 2
}
